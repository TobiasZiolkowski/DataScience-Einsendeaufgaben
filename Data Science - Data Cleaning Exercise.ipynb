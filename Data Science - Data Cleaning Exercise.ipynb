{
 "cells": [
  {
   "cell_type": "markdown",
   "metadata": {},
   "source": []
  },
  {
   "cell_type": "markdown",
   "metadata": {},
   "source": [
    "Data Science - Data Cleaning Exercise\n",
    "======================\n",
    "\n",
    "First of all I would delete the entries, who are twice in this dataset. For Example in Line 15  and 16 \"Eden Wace\".  \n",
    "Line 9 and 10 are double in this dataframe, so I would erase the second ones.  \n",
    "\n",
    "For example with this: df.sort_values('age').drop_duplicates(subset=['full_name'], keep='last'), so both lines would be dropped.  \n",
    "\n",
    "The age in Line 18 is \"-78\" so I would erase all symbols in the column \"age\".  \n",
    "Example: [x.strip('-') for age in df.membership_list]  \n",
    "\n",
    "The age in Line 10 is \"old\". This isn't an integer so I would replace this value with 59, so everybody is happy.  \n",
    "series.str.replace('old', '60')  \n",
    "\n",
    "In Line 22 the id is missing, so I would write it in:   \n",
    "membership_list.id[22] = 22  \n",
    "\n",
    "And the lines 18 and 23 could be deleted, because there isn't a real value.   \n",
    "df.drop([18, 23])  \n",
    " \n",
    "\n",
    "\n",
    "This is the dataframe:   \n",
    "id,full_name,first_name,last_name,email,gender,age  \n",
    "----------------------\n",
    "1,Mariel Finnigan,Mariel,Finnigan,mfinnigan0@usda.gov,Female,60  \n",
    "2,Kenyon Possek,Kenyon,Possek,kpossek1@ucoz.com,Male,12  \n",
    "3,Lalo Manifould,Lalo,Manifould,lmanifould2@pbs.org,Male,26  \n",
    "4,Nickola Carous,Nickola,Carous,ncarous3@phoca.cz,Male,4  \n",
    "5,Norman Dubbin,Norman,Dubbin,ndubbin4@wikipedia.org,Male,17  \n",
    "6,Hasty Perdue,Hasty,Perdue,hperdue5@qq.com,,77  \n",
    "7,Franz Castello,Franz,Castello,fcastello6@1688.com,Male,25  \n",
    "8,Jorge Tarney,Jorge,Tarney,jtarney7@ft.com,Male,77  \n",
    "9,Eunice Blakebrough,Eunice,Blakebrough,eblakebrough8@sohu.com,Female,45  \n",
    "10,Kristopher Frankcombe,Kristopher,Frankcombe,kfrankcombe9@slate.com,Male,old  \n",
    "11,Palm Domotor,Palm,Domotor,pdomotora@github.io,Male,6  \n",
    "9,Eunice Blakebrough,Eunice,Blakebrough,eblakebrough8@sohu.com,Female,45  \n",
    "10,Kristopher Frankcombe,Kristopher,Frankcombe,kfrankcombe9@slate.com,Male,old  \n",
    "12,Luz Lansdowne,Luz,Lansdowne,llansdowneb@theguardian.com,Female,16  \n",
    "13,Modestia Keble,Modestia,Keble,mkeblec@cmu.edu,Female,91  \n",
    "14,Stacee Bovis,Stacee,Bovis,sbovisd@webeden.co.uk,Female,22  \n",
    "15,Eden Wace,Eden,Wace,ewacee@marriott.com,Female,16  \n",
    "16,Eden Wace,Eden,Wace,ewacee@marriott.com,Female,16  \n",
    "17,Tobias Sherburn,Tobias,Sherburn,tsherburnf@facebook.com,Male,2  \n",
    ",,,,,    \n",
    "19,Clair Skillern,Clair,Skillern,cskillerng@nih.gov,Male,-78     \n",
    "20,Mathew Addicott,Mathew,Addicott,maddicotth@acquirethisname.com,Male,65     \n",
    "21,Kerianne Goacher,Kerianne,Goacher,,Female,45   \n",
    ",Maurits Shawl,Maurits,Shawl,mshawlj@dmoz.org,Male,72   \n",
    ",,,,,   \n",
    "\n",
    "\n",
    "\n"
   ]
  },
  {
   "cell_type": "markdown",
   "metadata": {},
   "source": [
    "\n",
    "\n"
   ]
  }
 ],
 "metadata": {
  "kernelspec": {
   "display_name": "Python 3",
   "language": "python",
   "name": "python3"
  },
  "language_info": {
   "codemirror_mode": {
    "name": "ipython",
    "version": 3
   },
   "file_extension": ".py",
   "mimetype": "text/x-python",
   "name": "python",
   "nbconvert_exporter": "python",
   "pygments_lexer": "ipython3",
   "version": "3.6.4"
  }
 },
 "nbformat": 4,
 "nbformat_minor": 2
}
