{
 "cells": [
  {
   "cell_type": "markdown",
   "metadata": {},
   "source": [
    "# Exercise 2 In the logistic regression example, I gave you a new iris data: 4.8,2.5,5.3,2.4 Please classify this flower using KNN. \n",
    "________\n",
    "\n",
    ">**First I import the libraries and set the variables. Now I've defined the functions distance, get_neighbours and vote_prob.\n",
    "At the end I used this functions to find out which class the given flower is.**\n",
    " \n",
    "\n",
    "!!!So the probability is very high, that the given data is an iris virginica!!!"
   ]
  },
  {
   "cell_type": "code",
   "execution_count": 95,
   "metadata": {},
   "outputs": [],
   "source": [
    "%matplotlib inline\n",
    "import numpy as np\n",
    "from sklearn import datasets\n",
    "from pylab import *\n",
    "iris = datasets.load_iris()\n",
    "iris_data = iris.data\n",
    "iris_labels = iris.target"
   ]
  },
  {
   "cell_type": "code",
   "execution_count": 96,
   "metadata": {},
   "outputs": [
    {
     "name": "stdout",
     "output_type": "stream",
     "text": [
      "3.10322412983658\n"
     ]
    }
   ],
   "source": [
    "def distance(instance1, instance2):\n",
    "    # just in case, if the instances are lists or tuples:\n",
    "    instance1 = np.array(instance1) \n",
    "    instance2 = np.array(instance2)\n",
    "    \n",
    "    return np.linalg.norm(instance1 - instance2)\n",
    "#Distance between the 4. dataset and the given flower\n",
    "print(distance(iris_data[4], a))"
   ]
  },
  {
   "cell_type": "code",
   "execution_count": 97,
   "metadata": {},
   "outputs": [],
   "source": [
    "def get_neighbors(training_set, \n",
    "                  labels, \n",
    "                  test_instance, \n",
    "                  k, \n",
    "                  distance=distance):\n",
    "    \"\"\"\n",
    "    get_neighors calculates a list of the k nearest neighbors\n",
    "    of an instance 'test_instance'.\n",
    "    The list neighbors contains 3-tuples with  \n",
    "    (index, dist, label)\n",
    "    where \n",
    "    index    is the index from the training_set, \n",
    "    dist     is the distance between the test_instance and the \n",
    "             instance training_set[index]\n",
    "    distance is a reference to a function used to calculate the \n",
    "             distances\n",
    "    \"\"\"\n",
    "    distances = []\n",
    "    for index in range(len(training_set)):\n",
    "        dist = distance(test_instance, training_set[index])\n",
    "        distances.append((training_set[index], dist, labels[index]))\n",
    "    distances.sort(key=lambda x: x[1])\n",
    "    neighbors = distances[:k]\n",
    "    return neighbors"
   ]
  },
  {
   "cell_type": "code",
   "execution_count": 98,
   "metadata": {},
   "outputs": [],
   "source": [
    "def vote_prob(neighbors):\n",
    "    class_counter = Counter()\n",
    "    for neighbor in neighbors:\n",
    "        class_counter[neighbor[2]] += 1\n",
    "    labels, votes = zip(*class_counter.most_common())\n",
    "    winner = class_counter.most_common(1)[0][0]\n",
    "    votes4winner = class_counter.most_common(1)[0][1]\n",
    "    return winner, votes4winner/sum(votes)"
   ]
  },
  {
   "cell_type": "code",
   "execution_count": 99,
   "metadata": {},
   "outputs": [
    {
     "name": "stdout",
     "output_type": "stream",
     "text": [
      "Given Flower:  [5.7 2.8 4.1 1.3] , result of vote:  1\n"
     ]
    }
   ],
   "source": [
    "#Which class is the given flower?\n",
    "#a is the given flower\n",
    "a = array([5.7,2.8,4.1,1.3])\n",
    "neighbors = get_neighbors(iris_data, \n",
    "                          iris_labels, \n",
    "                          a, \n",
    "                          10, \n",
    "                          distance=distance)\n",
    "print(\"Given Flower: \", a, \n",
    "      \", result of vote: \", vote(neighbors))"
   ]
  },
  {
   "cell_type": "code",
   "execution_count": 100,
   "metadata": {},
   "outputs": [
    {
     "name": "stdout",
     "output_type": "stream",
     "text": [
      "Given Flower:  [5.7 2.8 4.1 1.3] , Predicted Class:  (1, 1.0)\n"
     ]
    }
   ],
   "source": [
    "#Which class is the given flower with votes?\n",
    "neighbors = get_neighbors(iris_data, \n",
    "                          iris_labels, \n",
    "                          a, \n",
    "                          20, \n",
    "                          distance=distance)\n",
    "print(\"Given Flower: \", a, \n",
    "      \", Predicted Class: \", vote_prob(neighbors))"
   ]
  },
  {
   "cell_type": "code",
   "execution_count": 101,
   "metadata": {},
   "outputs": [
    {
     "name": "stdout",
     "output_type": "stream",
     "text": [
      "Given Flower:  [5.7 2.8 4.1 1.3] Neighbours:  [(array([5.7, 2.8, 4.1, 1.3]), 0.0, 1), (array([5.7, 2.9, 4.2, 1.3]), 0.14142135623730995, 1), (array([5.6, 2.7, 4.2, 1.3]), 0.17320508075688815, 1), (array([5.6, 3. , 4.1, 1.3]), 0.22360679774997935, 1), (array([5.7, 3. , 4.2, 1.2]), 0.24494897427831822, 1), (array([5.8, 2.7, 3.9, 1.2]), 0.26457513110645864, 1), (array([5.8, 2.6, 4. , 1.2]), 0.26457513110645864, 1), (array([5.8, 2.7, 4.1, 1. ]), 0.3316624790355398, 1), (array([5.9, 3. , 4.2, 1.5]), 0.36055512754639923, 1), (array([5.5, 2.5, 4. , 1.3]), 0.374165738677394, 1), (array([5.7, 2.8, 4.5, 1.3]), 0.40000000000000036, 1), (array([6.1, 2.8, 4. , 1.3]), 0.41231056256176546, 1), (array([5.6, 2.5, 3.9, 1.1]), 0.4242640687119284, 1), (array([5.5, 2.6, 4.4, 1.2]), 0.424264068711929, 1), (array([5.6, 3. , 4.5, 1.5]), 0.5000000000000004, 1), (array([5.6, 2.9, 3.6, 1.3]), 0.5196152422706629, 1), (array([5.5, 2.3, 4. , 1.3]), 0.5477225575051662, 1), (array([6.2, 2.9, 4.3, 1.3]), 0.5477225575051662, 1), (array([6. , 2.9, 4.5, 1.5]), 0.5477225575051663, 1), (array([5.2, 2.7, 3.9, 1.4]), 0.556776436283002, 1)]\n"
     ]
    }
   ],
   "source": [
    "#What are the neighbours of the given flower?\n",
    "neighbors = get_neighbors(iris.data, \n",
    "                          iris_labels, \n",
    "                          a, \n",
    "                          20, \n",
    "                          distance=distance)\n",
    "\n",
    "print(\"Given Flower: \", a,\n",
    "      \"Neighbours: \",neighbors)    "
   ]
  }
 ],
 "metadata": {
  "kernelspec": {
   "display_name": "Python 3",
   "language": "python",
   "name": "python3"
  },
  "language_info": {
   "codemirror_mode": {
    "name": "ipython",
    "version": 3
   },
   "file_extension": ".py",
   "mimetype": "text/x-python",
   "name": "python",
   "nbconvert_exporter": "python",
   "pygments_lexer": "ipython3",
   "version": "3.6.4"
  }
 },
 "nbformat": 4,
 "nbformat_minor": 2
}
